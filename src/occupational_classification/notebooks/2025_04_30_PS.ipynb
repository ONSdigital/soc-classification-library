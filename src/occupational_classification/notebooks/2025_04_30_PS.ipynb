{
 "cells": [
  {
   "cell_type": "code",
   "execution_count": 1,
   "metadata": {},
   "outputs": [],
   "source": [
    "from google.cloud import storage"
   ]
  },
  {
   "cell_type": "code",
   "execution_count": 2,
   "metadata": {},
   "outputs": [],
   "source": [
    "def download_from_gcs(project_id, bucket_name, source_blob_name, destination_file_name):\n",
    "    \"\"\"Downloads a blob from the bucket.\"\"\"\n",
    "    storage_client = storage.Client(project=project_id)\n",
    "    bucket = storage_client.bucket(bucket_name)\n",
    "    blob = bucket.blob(source_blob_name)\n",
    "    blob.download_to_filename(destination_file_name)\n",
    "    print(\n",
    "        f\"Downloaded storage object {source_blob_name} from bucket {bucket_name} to {destination_file_name}\"\n",
    "    )\n",
    "project_id = \"classifai-sandbox\"\n",
    "bucket_name = \"classifai-app-data\""
   ]
  },
  {
   "cell_type": "code",
   "execution_count": 3,
   "metadata": {},
   "outputs": [
    {
     "name": "stdout",
     "output_type": "stream",
     "text": [
      "Downloaded storage object soc2020volume1structureanddescriptionofunitgroupsexcel16102024.xlsx from bucket classifai-app-data to data/soc2020volume1structureanddescriptionofunitgroupsexcel16102024.xlsx\n"
     ]
    }
   ],
   "source": [
    "source_blob_name = \"soc2020volume1structureanddescriptionofunitgroupsexcel16102024.xlsx\"\n",
    "destination_file_name = \"data/soc2020volume1structureanddescriptionofunitgroupsexcel16102024.xlsx\"\n",
    "download_from_gcs(project_id,bucket_name, source_blob_name, destination_file_name)"
   ]
  },
  {
   "cell_type": "code",
   "execution_count": 4,
   "metadata": {},
   "outputs": [
    {
     "name": "stdout",
     "output_type": "stream",
     "text": [
      "Downloaded storage object soc2020volume2thecodingindexexcel16102024.xlsx from bucket classifai-app-data to data/soc2020volume2thecodingindexexcel16102024.xlsx\n"
     ]
    }
   ],
   "source": [
    "source_blob_name = \"soc2020volume2thecodingindexexcel16102024.xlsx\"\n",
    "destination_file_name = \"data/soc2020volume2thecodingindexexcel16102024.xlsx\"\n",
    "download_from_gcs(project_id,bucket_name, source_blob_name, destination_file_name)"
   ]
  },
  {
   "cell_type": "code",
   "execution_count": 1,
   "metadata": {},
   "outputs": [],
   "source": [
    "from occupational_classification import get_config\n",
    "from occupational_classification.data_access import soc_data_access\n",
    "\n",
    "soc_df_input = soc_data_access.load_soc_structure(get_config()[\"lookups\"][\"soc_structure\"])"
   ]
  },
  {
   "cell_type": "code",
   "execution_count": 3,
   "metadata": {},
   "outputs": [
    {
     "data": {
      "text/html": [
       "<div>\n",
       "<style scoped>\n",
       "    .dataframe tbody tr th:only-of-type {\n",
       "        vertical-align: middle;\n",
       "    }\n",
       "\n",
       "    .dataframe tbody tr th {\n",
       "        vertical-align: top;\n",
       "    }\n",
       "\n",
       "    .dataframe thead th {\n",
       "        text-align: right;\n",
       "    }\n",
       "</style>\n",
       "<table border=\"1\" class=\"dataframe\">\n",
       "  <thead>\n",
       "    <tr style=\"text-align: right;\">\n",
       "      <th></th>\n",
       "      <th>soc2020_major_group</th>\n",
       "      <th>soc2020_sub-major_group</th>\n",
       "      <th>soc2020_minor_group</th>\n",
       "      <th>soc_2020_unit_group</th>\n",
       "      <th>soc2020_group_title</th>\n",
       "      <th>group_description</th>\n",
       "      <th>qualifications</th>\n",
       "      <th>tasks</th>\n",
       "    </tr>\n",
       "  </thead>\n",
       "  <tbody>\n",
       "    <tr>\n",
       "      <th>0</th>\n",
       "      <td>1</td>\n",
       "      <td>&lt;blank&gt;</td>\n",
       "      <td>&lt;blank&gt;</td>\n",
       "      <td>&lt;blank&gt;</td>\n",
       "      <td>Managers, directors and senior officials</td>\n",
       "      <td>This major group covers occupations whose task...</td>\n",
       "      <td>&lt;blank&gt;</td>\n",
       "      <td>&lt;blank&gt;</td>\n",
       "    </tr>\n",
       "    <tr>\n",
       "      <th>1</th>\n",
       "      <td>&lt;blank&gt;</td>\n",
       "      <td>11</td>\n",
       "      <td>&lt;blank&gt;</td>\n",
       "      <td>&lt;blank&gt;</td>\n",
       "      <td>Corporate managers and directors</td>\n",
       "      <td>Job holders in this sub-major group formulate ...</td>\n",
       "      <td>&lt;blank&gt;</td>\n",
       "      <td>&lt;blank&gt;</td>\n",
       "    </tr>\n",
       "    <tr>\n",
       "      <th>2</th>\n",
       "      <td>&lt;blank&gt;</td>\n",
       "      <td>&lt;blank&gt;</td>\n",
       "      <td>111</td>\n",
       "      <td>&lt;blank&gt;</td>\n",
       "      <td>Chief executives and senior officials</td>\n",
       "      <td>Jobholders in this minor group plan, organise ...</td>\n",
       "      <td>&lt;blank&gt;</td>\n",
       "      <td>&lt;blank&gt;</td>\n",
       "    </tr>\n",
       "    <tr>\n",
       "      <th>3</th>\n",
       "      <td>&lt;blank&gt;</td>\n",
       "      <td>&lt;blank&gt;</td>\n",
       "      <td>&lt;blank&gt;</td>\n",
       "      <td>1111</td>\n",
       "      <td>Chief executives and senior officials</td>\n",
       "      <td>Chief executives and senior officials head lar...</td>\n",
       "      <td>Entry may be by appointment or internal promot...</td>\n",
       "      <td>~analyses economic, social, legal and other da...</td>\n",
       "    </tr>\n",
       "    <tr>\n",
       "      <th>4</th>\n",
       "      <td>&lt;blank&gt;</td>\n",
       "      <td>&lt;blank&gt;</td>\n",
       "      <td>&lt;blank&gt;</td>\n",
       "      <td>1112</td>\n",
       "      <td>Elected officers and representatives</td>\n",
       "      <td>Elected representatives in national government...</td>\n",
       "      <td>Entry is by election.</td>\n",
       "      <td>~represents constituency within the legislatur...</td>\n",
       "    </tr>\n",
       "  </tbody>\n",
       "</table>\n",
       "</div>"
      ],
      "text/plain": [
       "  soc2020_major_group soc2020_sub-major_group soc2020_minor_group  \\\n",
       "0                   1                 <blank>             <blank>   \n",
       "1             <blank>                      11             <blank>   \n",
       "2             <blank>                 <blank>                 111   \n",
       "3             <blank>                 <blank>             <blank>   \n",
       "4             <blank>                 <blank>             <blank>   \n",
       "\n",
       "  soc_2020_unit_group                       soc2020_group_title  \\\n",
       "0             <blank>  Managers, directors and senior officials   \n",
       "1             <blank>          Corporate managers and directors   \n",
       "2             <blank>     Chief executives and senior officials   \n",
       "3                1111     Chief executives and senior officials   \n",
       "4                1112      Elected officers and representatives   \n",
       "\n",
       "                                   group_description  \\\n",
       "0  This major group covers occupations whose task...   \n",
       "1  Job holders in this sub-major group formulate ...   \n",
       "2  Jobholders in this minor group plan, organise ...   \n",
       "3  Chief executives and senior officials head lar...   \n",
       "4  Elected representatives in national government...   \n",
       "\n",
       "                                      qualifications  \\\n",
       "0                                            <blank>   \n",
       "1                                            <blank>   \n",
       "2                                            <blank>   \n",
       "3  Entry may be by appointment or internal promot...   \n",
       "4                              Entry is by election.   \n",
       "\n",
       "                                               tasks  \n",
       "0                                            <blank>  \n",
       "1                                            <blank>  \n",
       "2                                            <blank>  \n",
       "3  ~analyses economic, social, legal and other da...  \n",
       "4  ~represents constituency within the legislatur...  "
      ]
     },
     "execution_count": 3,
     "metadata": {},
     "output_type": "execute_result"
    }
   ],
   "source": [
    "soc_df_input.head()"
   ]
  },
  {
   "cell_type": "code",
   "execution_count": 11,
   "metadata": {},
   "outputs": [],
   "source": [
    "from occupational_classification.data_access import soc_data_access"
   ]
  },
  {
   "cell_type": "code",
   "execution_count": 6,
   "metadata": {},
   "outputs": [
    {
     "data": {
      "text/plain": [
       "'/home/user/soc-classification-library/src/occupational_classification/notebooks'"
      ]
     },
     "execution_count": 6,
     "metadata": {},
     "output_type": "execute_result"
    }
   ],
   "source": [
    "%pwd"
   ]
  },
  {
   "cell_type": "code",
   "execution_count": null,
   "metadata": {},
   "outputs": [],
   "source": []
  }
 ],
 "metadata": {
  "kernelspec": {
   "display_name": "soc-classification-library-9kl8FgRj-py3.12",
   "language": "python",
   "name": "python3"
  },
  "language_info": {
   "codemirror_mode": {
    "name": "ipython",
    "version": 3
   },
   "file_extension": ".py",
   "mimetype": "text/x-python",
   "name": "python",
   "nbconvert_exporter": "python",
   "pygments_lexer": "ipython3",
   "version": "3.12.4"
  }
 },
 "nbformat": 4,
 "nbformat_minor": 2
}
